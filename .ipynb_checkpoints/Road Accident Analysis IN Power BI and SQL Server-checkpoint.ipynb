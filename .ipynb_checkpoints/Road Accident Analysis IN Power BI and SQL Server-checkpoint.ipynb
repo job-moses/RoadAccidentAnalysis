{
 "cells": [
  {
   "cell_type": "markdown",
   "id": "37742ced",
   "metadata": {},
   "source": [
    "# <font color=\"black\">Driving Towards Safety: A Comprehensive Analysis of Road Accidents</font>"
   ]
  },
  {
   "cell_type": "markdown",
   "id": "33ace459",
   "metadata": {},
   "source": [
    "![](https://img.etimg.com/thumb/msid-101865045,width-1000,height-300,imgsize-20718,,resizemode-75/over-500-people-lost-lives-in-road-accidents-in-bangladesh-road-safety-foundation-report.jpg)"
   ]
  },
  {
   "cell_type": "markdown",
   "id": "e5a49718",
   "metadata": {},
   "source": [
    "### Introduction:\n",
    "\n",
    "Road accidents stand as a formidable global challenge, exacting a toll in terms of human lives, injuries, and substantial economic losses year after year. Despite concerted efforts by authorities to instill road safety measures, the persistent high incidence of accidents in numerous countries underscores the need for a deeper understanding of the factors contributing to these incidents. In response to this imperative, our project, \"Driving Towards Safety,\" endeavors to embark on an extensive exploration of the multifaceted dimensions surrounding road accidents.\n",
    "\n",
    "### Objective\n",
    "\n",
    "The primary objective of this project is to dissect the intricate web of factors influencing road accidents through a dual approach—leveraging the power of Structured Query Language (SQL) for meticulous data analysis and harnessing the visualization capabilities of PowerBI to convey insights effectively. We will delve into various dimensions, including the geographic distribution of casualties, monthly trends, vehicle conditions, the state of road infrastructure, and environmental variables. By conducting a thorough investigation into these aspects, we aspire to unearth patterns, correlations, and insights that can empower authorities in formulating targeted strategies to mitigate the risk of road accidents and, ultimately, save lives.\n",
    "\n",
    "This project is not merely an exploration of statistics; it is a proactive step towards actionable knowledge. The findings derived from our analysis aim to serve as a foundation upon which authorities can build robust and effective road safety initiatives. Through a combination of rigorous data analysis and intuitive visual representation, \"Driving Towards Safety\" seeks to contribute to a safer and more secure global road network, fostering environments where accidents are minimized, and lives are safeguarded.\n",
    "\n",
    "----\n",
    "### Problem Statement\n",
    "Create a Road Accident dashboard for year 2011 so that they can have insight in the below requirements\n",
    "- Primary KPI - Total Casualties and Total Accident values for Current Year and YoY growth\n",
    "\n",
    "- Primary KPI's - Total Casualties by Accident Severity for Current Year and Year over Year growth\n",
    "\n",
    "- Secondary KPI's - Total Casualties with respect to vehicle type for Current Year\n",
    "\n",
    "- Monthly trend showing comparison of casualties for Current Year and Previous Year\n",
    "\n",
    "- Casualties by Road Type for Current year\n",
    "\n",
    "- Calalties by Light Condition\n",
    "\n",
    "- Current Year Casualties by Area/ Location & by Day/Night\n",
    "\n",
    "- Total Casualties and Total Accidents by Location\n",
    "\n",
    "### Data Sourcing\n",
    "Not until I came up with the above mentioned questions did I went ahead to get the data. I then downloaded the csv file, and extracted it into Power BI for clening, analysis and visualization.\n",
    "\n",
    "It contains 3 sheets/tables:\n",
    "307,973 rows and 14 columns\n",
    "\n",
    "----\n",
    "### Data Transformation/Cleaning:\n",
    "Data was efficiently cleaned and transformed with the Power Query Editor of Power BI.\n",
    "Some of the applied steps included \n",
    "\n",
    "- Renaming inconsistent data points in Accident_Severity column from Fetal to Fatal.\n",
    "- Create calender table\n",
    "- Create new features Year, Month, Date from calender table\n",
    "\n",
    "### DATA MODELLING\n",
    "Power BI automatically connected related tables resulting in a star schema model.\n",
    "The 'Data' table is the fact table of the model.\n",
    "The remaining dimension tables; 'Calender' table is connected to the 'Data' table via the common columns: 'Date'.\n",
    "![](modelling.png)\n",
    "\n",
    "\n",
    "**Power BI Concepts applied:**\n",
    "- DAX Concepts:\n",
    "                How to connect to raw data,\n",
    "                Data Cleaning in Power Query,\n",
    "                Calculated column,\n",
    "                Custom Measures,\n",
    "                Year(),\n",
    "                Month(),\n",
    "                Day(),\n",
    "                YTD(),\n",
    "                SAMEPERIODLASTYEAR(),\n",
    "                importing Images\n",
    "           \n",
    "- Data Modelling: Star Schema (*:1)\n",
    "### Data Analysis and Visuals\n",
    "![](RoadAccidentAnalysis.png)\n"
   ]
  },
  {
   "cell_type": "code",
   "execution_count": null,
   "id": "4fd65206",
   "metadata": {},
   "outputs": [],
   "source": []
  },
  {
   "cell_type": "code",
   "execution_count": null,
   "id": "1be2f4ee",
   "metadata": {},
   "outputs": [],
   "source": []
  },
  {
   "cell_type": "code",
   "execution_count": null,
   "id": "9d79b413",
   "metadata": {},
   "outputs": [],
   "source": []
  },
  {
   "cell_type": "code",
   "execution_count": null,
   "id": "2f383f72",
   "metadata": {},
   "outputs": [],
   "source": []
  },
  {
   "cell_type": "code",
   "execution_count": null,
   "id": "b328fa41",
   "metadata": {},
   "outputs": [],
   "source": []
  },
  {
   "cell_type": "code",
   "execution_count": null,
   "id": "870c7cf4",
   "metadata": {},
   "outputs": [],
   "source": []
  },
  {
   "cell_type": "code",
   "execution_count": null,
   "id": "098dcfdd",
   "metadata": {},
   "outputs": [],
   "source": []
  },
  {
   "cell_type": "code",
   "execution_count": null,
   "id": "e0745752",
   "metadata": {},
   "outputs": [],
   "source": []
  },
  {
   "cell_type": "code",
   "execution_count": null,
   "id": "336427d6",
   "metadata": {},
   "outputs": [],
   "source": []
  }
 ],
 "metadata": {
  "kernelspec": {
   "display_name": "Python 3 (ipykernel)",
   "language": "python",
   "name": "python3"
  },
  "language_info": {
   "codemirror_mode": {
    "name": "ipython",
    "version": 3
   },
   "file_extension": ".py",
   "mimetype": "text/x-python",
   "name": "python",
   "nbconvert_exporter": "python",
   "pygments_lexer": "ipython3",
   "version": "3.11.5"
  }
 },
 "nbformat": 4,
 "nbformat_minor": 5
}
